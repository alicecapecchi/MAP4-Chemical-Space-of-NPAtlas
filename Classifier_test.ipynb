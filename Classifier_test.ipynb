{
 "cells": [
  {
   "cell_type": "code",
   "execution_count": 33,
   "metadata": {},
   "outputs": [
    {
     "name": "stdout",
     "output_type": "stream",
     "text": [
      "INFO: Pandarallel will run on 8 workers.\n",
      "INFO: Pandarallel will use Memory file system to transfer data between the main process and workers.\n"
     ]
    }
   ],
   "source": [
    "import pandas as pd\n",
    "from pandas import Series\n",
    "import numpy as np\n",
    "import os\n",
    "import pickle\n",
    "import random\n",
    "from collections import Counter\n",
    "from operator import itemgetter\n",
    "import joblib\n",
    "from pandarallel import pandarallel\n",
    "pandarallel.initialize(progress_bar=True)\n",
    "from scipy.stats import rankdata\n",
    "from sklearn import metrics\n",
    "from sklearn.pipeline import make_pipeline\n",
    "from sklearn import svm\n",
    "from sklearn.metrics import roc_curve\n",
    "from sklearn.metrics import roc_auc_score\n",
    "from sklearn.model_selection import GridSearchCV\n",
    "from sklearn.neighbors import KNeighborsClassifier\n",
    "from rdkit import Chem\n",
    "from rdkit.Chem.rdmolfiles import MolToSmiles, MolFromSmiles\n",
    "from rdkit.Chem import Lipinski, Descriptors\n",
    "import matplotlib.pyplot as plt\n",
    "import seaborn as sns\n",
    "from matplotlib.colors import ListedColormap\n",
    "import tmap as tm\n",
    "from faerun import Faerun\n",
    "from map4 import MAP4Calculator"
   ]
  },
  {
   "cell_type": "code",
   "execution_count": 34,
   "metadata": {},
   "outputs": [],
   "source": [
    "folder = \"/data/NPAtlas/\""
   ]
  },
  {
   "cell_type": "markdown",
   "metadata": {},
   "source": [
    "# TEST with Epicospirocins, penicimeroterpenoids, and Phakefustatin A + SI structures\n",
    "We considered the class *bacterium* to be the positive class and the class *fungus* to be the negative one. "
   ]
  },
  {
   "cell_type": "code",
   "execution_count": 35,
   "metadata": {},
   "outputs": [],
   "source": [
    "epicospirocins_smiles_list = [\"OC1=C(O)C(O)=C(C(OC)OC23CC(C(O)=C(O)C(O)=C4C)=C4CO3)C2=C1C\", \\\n",
    "          \"OC1=C(O)C(C)=C(C(OC)OC23CC(C(O)=C(O)C(O)=C4C)=C4CO3)C2=C1O\", \\\n",
    "          \"OC5=C(O)C(O)=C(C(O)OC67CC(C(O)=C(O)C(O)=C8C)=C8CO7)C6=C5C\", \\\n",
    "          \"OC9=C(O)C(C)=C(C(O)OC%10%11CC(C(O)=C(O)C(O)=C%12C)=C%12CO%11)C%10=C9O\"]\n",
    "\n",
    "Rhizolutin_smiles = \"C/C1=C\\[C@H](O2)[C@@](/C=C/C(C)=C\\[C@]3([H])[C@]1([H])C[C@H](CC)OC3=O)([H])C[C@H](O)CC2=O\"\n",
    "\n",
    "penicimeroterpenoids_smiles_list = [\"O=C1[C@@](C)(O)C([C@@]2(C(OC)=O)[C@@]3(C)C[C@H](OC4=O)[C@]5([H])C(C)(C)[C@@H](OC(C)=O)CC[C@@]54[C@]3([H])[C@@H]1C(C)=C2C)=O\", \\\n",
    "              \"C[C@]12C[C@H](OC3=O)[C@]4([H])C(C)(C)[C@@H](OC(C)=O)CC[C@@]43[C@]1([H])C=C(C)[C@]5(C)[C@@]2(C(OC)=O)C([C@]5(O)C)=O\", \\\n",
    "              \"C[C@]12C[C@H](OC3=O)[C@]4([H])C(C)(C)[C@@H](OC(C)=O)CC[C@@]43[C@]1([H])C=C(C)[C@]5(C)[C@@]2(C(OC)=O)[C@@](O)(C)C5=O\"]\n",
    "\n",
    "BosamycinA_smiles = \"N[C@H](CC1=CC=C(O)C=C1)C(N[C@@H](CC(C)C)C(N[C@H]([C@H](C(O)=O)O)C(N[C@@H](CO)C(N[C@H](CC2=CC=C(O)C=C2OC)C(N[C@@H](CC(C)C)C(NCC(O)=O)=O)=O)=O)=O)=O)=O\"\n",
    "\n",
    "phakefustatin_smiles = \"O=C(N1[C@@H](CCC1)C(N[C@@H](CC2=CC=CC=C2)C(N3)=O)=O)[C@H](C(C)C)NC([C@H]4N(C([C@H]5N(C([C@H](CCCNC(N)=N)NC([C@@H]3CC(C6=CC=CC=C6N)=O)=O)=O)CCC5)=O)CCC4)=O\"\n",
    "\n",
    "SI_smiles_list = [\"OC[C@@H](O1)[C@@H](O)[C@H](O)[C@@H](O)[C@@H]1OCCC2=CC=C(O)C=C2\", \"OC(CCC/C=C1C[C@@H]2[C@H]([C@@H](C[C@@H]2O/1)O)/C=C/[C@H](CCCCC)O)=O\", \\\n",
    "               \"CC[C@H]1[C@@H](C)C(C(C)=C([C@H]([C@@H](O)CC)C)O1)=O\", \"C[C@@H]([C@H]1CC[C@@H]2[C@]1(C)CC[C@H]3[C@H]2CC=C4[C@]3(C)CC[C@H](O)C4)CCCC(C)C\", \\\n",
    "               \"OC/C=C(C)/CC/C=C(C)/CC/C=C(C)\\C\", \"O[C@@H]1[C@H](CC[C@@H](C1)C)C(C)C\", \"O=CC1=CC=CC=C1\", \\\n",
    "               \"CC1C(=O)NC(C(=O)NC2CSSCC3C(=O)NC(C(=O)NC(C(=O)NCC(=O)NC(C(=O)NC(CSSCC(C(=O)NC(CSSCC(C(=O)NC(C(=O)NCC(=O)NC(C(=O)NCC(=O)N1)CCCCN)CCCCN)N)C(=O)NC(C(=O)NCC(=O)NC(C(=O)N3)CO)C(C)O)NC(=O)C(NC(=O)C(NC(=O)C(NC(=O)C(NC(=O)C(NC(=O)C(NC2=O)CO)CCCNC(=N)N)CC(C)C)CCSC)CC4=CC=C(C=C4)O)CC(=O)O)C(=O)N)CCCCN)CO)CCCNC(=N)N)CCCCN\"]"
   ]
  },
  {
   "cell_type": "code",
   "execution_count": 36,
   "metadata": {},
   "outputs": [],
   "source": [
    "frame = pd.read_pickle(folder + \"NPA_ML-with-prop.pkl\")"
   ]
  },
  {
   "cell_type": "code",
   "execution_count": 37,
   "metadata": {},
   "outputs": [],
   "source": [
    "MAP4 = MAP4Calculator(dimensions=1024)\n",
    "def calc_map4(smiles):\n",
    "    mol = Chem.MolFromSmiles(smiles)\n",
    "    smiles = Chem.MolToSmiles(mol, isomericSmiles=False)\n",
    "    mol = Chem.MolFromSmiles(smiles)\n",
    "    map4 = MAP4.calculate(mol)\n",
    "    return np.array(map4)\n",
    "\n",
    "def map4_kernel_SVM(a, b=None):\n",
    "    if b is None:\n",
    "        b=a\n",
    "    JS_all_pairs = np.zeros((len(a),len(b)))\n",
    "    for i,fp1 in enumerate(a):\n",
    "        for j,fp2 in enumerate(b):\n",
    "            JS_all_pairs[i,j] = np.float(np.count_nonzero(fp1 == fp2)) / np.float(len(fp1))\n",
    "    return JS_all_pairs\n",
    "\n",
    "def map4_kernel_NN(fp1, fp2):\n",
    "    return 1- np.float(np.count_nonzero(fp1 == fp2)) / np.float(len(fp1))\n",
    "\n",
    "\n",
    "def distance(a, b):\n",
    "    \"\"\"Estimates the Jaccard distance of two binary arrays based on their hashes.\n",
    "\n",
    "Arguments:\n",
    "  a {numpy.ndarray} -- An array containing hash values.\n",
    "  b {numpy.ndarray} -- An array containing hash values.\n",
    "\n",
    "Returns:\n",
    "  float -- The estimated Jaccard distance.\n",
    "\"\"\"\n",
    "\n",
    "    # The Jaccard distance of Minhashed values is estimated by\n",
    "    return 1.0 - np.float(np.count_nonzero(a == b)) / np.float(len(a))\n",
    "\n",
    "def find_map_seqNN(fp, dataframe = frame[frame.Set==\"training\"]):\n",
    "    best_dist = float(\"inf\")\n",
    "    dists = dataframe[\"MAP4\"].map(lambda fp2 : distance(fp,fp2))\n",
    "    NNi = np.argmin(dists)\n",
    "    best_dist = dists.iloc[NNi]\n",
    "    NN = dataframe[\"NPAID\"].iloc[NNi]\n",
    "    return best_dist, NN"
   ]
  },
  {
   "cell_type": "code",
   "execution_count": 38,
   "metadata": {},
   "outputs": [],
   "source": [
    "SVM = joblib.load(folder + \"SVM-NPA.pkl\")\n",
    "kNN = joblib.load(folder + \"NN-NPA.pkl\")"
   ]
  },
  {
   "cell_type": "code",
   "execution_count": 39,
   "metadata": {},
   "outputs": [],
   "source": [
    "epicospirocins_map4_list = [calc_map4(smiles) for smiles in epicospirocins_smiles_list]\n",
    "penicimeroterpenoids_map4_list = [calc_map4(smiles) for smiles in penicimeroterpenoids_smiles_list]\n",
    "Rhizolutin_map4 = calc_map4(Rhizolutin_smiles)\n",
    "BosamycinA_map4 = calc_map4(BosamycinA_smiles)\n",
    "phakefustatin_map4 = calc_map4(phakefustatin_smiles)\n",
    "SI_map4_list = [calc_map4(smiles) for smiles in SI_smiles_list]\n",
    "\n",
    "epicospirocins_NN_dist_list = [find_map_seqNN(fp) for fp in epicospirocins_map4_list]\n",
    "penicimeroterpenoids_NN_dist_list = [find_map_seqNN(fp) for fp in penicimeroterpenoids_map4_list]\n",
    "Rhizolutin_NN_dist = find_map_seqNN(Rhizolutin_map4)\n",
    "BosamycinA_NN_dist = find_map_seqNN(BosamycinA_map4)\n",
    "phakefustatin_NN_dist = find_map_seqNN(phakefustatin_map4)\n",
    "SI_NN_dist_list = [find_map_seqNN(fp) for fp in SI_map4_list]"
   ]
  },
  {
   "cell_type": "code",
   "execution_count": 40,
   "metadata": {},
   "outputs": [
    {
     "data": {
      "text/plain": [
       "[(0.658203125, 'NPA024935'),\n",
       " (0.4921875, 'NPA024935'),\n",
       " (0.7490234375, 'NPA024935'),\n",
       " (0.615234375, 'NPA024935')]"
      ]
     },
     "execution_count": 40,
     "metadata": {},
     "output_type": "execute_result"
    }
   ],
   "source": [
    "epicospirocins_NN_dist_list"
   ]
  },
  {
   "cell_type": "code",
   "execution_count": 41,
   "metadata": {},
   "outputs": [
    {
     "data": {
      "text/plain": [
       "[(0.6318359375, 'NPA016454'),\n",
       " (0.466796875, 'NPA016454'),\n",
       " (0.5361328125, 'NPA016454')]"
      ]
     },
     "execution_count": 41,
     "metadata": {},
     "output_type": "execute_result"
    }
   ],
   "source": [
    "penicimeroterpenoids_NN_dist_list"
   ]
  },
  {
   "cell_type": "code",
   "execution_count": 42,
   "metadata": {},
   "outputs": [
    {
     "data": {
      "text/plain": [
       "(0.802734375, 'NPA009354')"
      ]
     },
     "execution_count": 42,
     "metadata": {},
     "output_type": "execute_result"
    }
   ],
   "source": [
    "Rhizolutin_NN_dist"
   ]
  },
  {
   "cell_type": "code",
   "execution_count": 43,
   "metadata": {},
   "outputs": [
    {
     "data": {
      "text/plain": [
       "(0.7666015625, 'NPA010987')"
      ]
     },
     "execution_count": 43,
     "metadata": {},
     "output_type": "execute_result"
    }
   ],
   "source": [
    "BosamycinA_NN_dist"
   ]
  },
  {
   "cell_type": "code",
   "execution_count": 44,
   "metadata": {},
   "outputs": [
    {
     "data": {
      "text/plain": [
       "(0.6787109375, 'NPA022212')"
      ]
     },
     "execution_count": 44,
     "metadata": {},
     "output_type": "execute_result"
    }
   ],
   "source": [
    "phakefustatin_NN_dist"
   ]
  },
  {
   "cell_type": "code",
   "execution_count": 45,
   "metadata": {},
   "outputs": [
    {
     "data": {
      "text/plain": [
       "[(0.751953125, 'NPA016219'),\n",
       " (0.78515625, 'NPA005601'),\n",
       " (0.8154296875, 'NPA004018'),\n",
       " (0.369140625, 'NPA018196'),\n",
       " (0.640625, 'NPA013150'),\n",
       " (0.501953125, 'NPA012557'),\n",
       " (0.734375, 'NPA008069'),\n",
       " (0.75390625, 'NPA020589')]"
      ]
     },
     "execution_count": 45,
     "metadata": {},
     "output_type": "execute_result"
    }
   ],
   "source": [
    "SI_NN_dist_list"
   ]
  },
  {
   "cell_type": "code",
   "execution_count": 46,
   "metadata": {},
   "outputs": [],
   "source": [
    "pred_epicospirocins_SVM = SVM.predict_proba(epicospirocins_map4_list)\n",
    "pred_penicimeroterpenoids_SVM = SVM.predict_proba(penicimeroterpenoids_map4_list)\n",
    "pred_Rhizolutin_SVM = SVM.predict_proba([Rhizolutin_map4])\n",
    "pred_BosamycinA_SVM = SVM.predict_proba([BosamycinA_map4])\n",
    "pred_phakefustatin_SVM = SVM.predict_proba([phakefustatin_map4])\n",
    "pred_SI_SVM = SVM.predict_proba(SI_map4_list)\n",
    "\n",
    "pred_epicospirocins_NN = kNN.predict_proba(epicospirocins_map4_list)\n",
    "pred_penicimeroterpenoids_NN = kNN.predict_proba(penicimeroterpenoids_map4_list)\n",
    "pred_Rhizolutin_NN = kNN.predict_proba([Rhizolutin_map4])\n",
    "pred_BosamycinA_NN = kNN.predict_proba([BosamycinA_map4])\n",
    "pred_phakefustatin_NN = kNN.predict_proba([phakefustatin_map4])\n",
    "pred_SI_NN = kNN.predict_proba(SI_map4_list)"
   ]
  },
  {
   "cell_type": "code",
   "execution_count": 47,
   "metadata": {},
   "outputs": [
    {
     "name": "stdout",
     "output_type": "stream",
     "text": [
      "[[0.98769655 0.01230345]\n",
      " [0.98692661 0.01307339]\n",
      " [0.98614541 0.01385459]\n",
      " [0.97942783 0.02057217]]\n"
     ]
    }
   ],
   "source": [
    "print(pred_epicospirocins_SVM) # predicted fungal origin"
   ]
  },
  {
   "cell_type": "code",
   "execution_count": 48,
   "metadata": {},
   "outputs": [
    {
     "name": "stdout",
     "output_type": "stream",
     "text": [
      "[[1. 0.]\n",
      " [1. 0.]\n",
      " [1. 0.]\n",
      " [1. 0.]]\n"
     ]
    }
   ],
   "source": [
    "print(pred_epicospirocins_NN) # predicted fungal origin"
   ]
  },
  {
   "cell_type": "code",
   "execution_count": 49,
   "metadata": {},
   "outputs": [
    {
     "data": {
      "text/plain": [
       "array([[0.83459318, 0.16540682]])"
      ]
     },
     "execution_count": 49,
     "metadata": {},
     "output_type": "execute_result"
    }
   ],
   "source": [
    "pred_Rhizolutin_SVM"
   ]
  },
  {
   "cell_type": "code",
   "execution_count": 50,
   "metadata": {},
   "outputs": [
    {
     "data": {
      "text/plain": [
       "array([[0.85714286, 0.14285714]])"
      ]
     },
     "execution_count": 50,
     "metadata": {},
     "output_type": "execute_result"
    }
   ],
   "source": [
    "pred_Rhizolutin_NN"
   ]
  },
  {
   "cell_type": "code",
   "execution_count": 51,
   "metadata": {},
   "outputs": [
    {
     "name": "stdout",
     "output_type": "stream",
     "text": [
      "[[0.99775061 0.00224939]\n",
      " [0.99895939 0.00104061]\n",
      " [0.99703121 0.00296879]]\n"
     ]
    }
   ],
   "source": [
    "print(pred_penicimeroterpenoids_SVM) # predicted fungal origin"
   ]
  },
  {
   "cell_type": "code",
   "execution_count": 52,
   "metadata": {},
   "outputs": [
    {
     "name": "stdout",
     "output_type": "stream",
     "text": [
      "[[1. 0.]\n",
      " [1. 0.]\n",
      " [1. 0.]]\n"
     ]
    }
   ],
   "source": [
    "print(pred_penicimeroterpenoids_NN) # predicted fungal origin"
   ]
  },
  {
   "cell_type": "code",
   "execution_count": 53,
   "metadata": {},
   "outputs": [
    {
     "name": "stdout",
     "output_type": "stream",
     "text": [
      "[[0.04215834 0.95784166]]\n"
     ]
    }
   ],
   "source": [
    "print(pred_BosamycinA_SVM)"
   ]
  },
  {
   "cell_type": "code",
   "execution_count": 54,
   "metadata": {},
   "outputs": [
    {
     "name": "stdout",
     "output_type": "stream",
     "text": [
      "[[0. 1.]]\n"
     ]
    }
   ],
   "source": [
    "print(pred_BosamycinA_NN)"
   ]
  },
  {
   "cell_type": "code",
   "execution_count": 55,
   "metadata": {},
   "outputs": [
    {
     "name": "stdout",
     "output_type": "stream",
     "text": [
      "[[0.12203697 0.87796303]]\n"
     ]
    }
   ],
   "source": [
    "print(pred_phakefustatin_SVM) # predicted bacterial origin"
   ]
  },
  {
   "cell_type": "code",
   "execution_count": 56,
   "metadata": {},
   "outputs": [
    {
     "name": "stdout",
     "output_type": "stream",
     "text": [
      "[[0.57142857 0.42857143]]\n"
     ]
    }
   ],
   "source": [
    "print(pred_phakefustatin_NN) # predicted fungal origin"
   ]
  },
  {
   "cell_type": "code",
   "execution_count": 57,
   "metadata": {},
   "outputs": [
    {
     "name": "stdout",
     "output_type": "stream",
     "text": [
      "[[0.75137514 0.24862486]\n",
      " [0.94108369 0.05891631]\n",
      " [0.16166844 0.83833156]\n",
      " [0.92935664 0.07064336]\n",
      " [0.92020936 0.07979064]\n",
      " [0.95917085 0.04082915]\n",
      " [0.30263708 0.69736292]\n",
      " [0.01037179 0.98962821]]\n"
     ]
    }
   ],
   "source": [
    "print(pred_SI_SVM)"
   ]
  },
  {
   "cell_type": "code",
   "execution_count": 58,
   "metadata": {},
   "outputs": [
    {
     "name": "stdout",
     "output_type": "stream",
     "text": [
      "[[0.42857143 0.57142857]\n",
      " [0.85714286 0.14285714]\n",
      " [0.14285714 0.85714286]\n",
      " [1.         0.        ]\n",
      " [0.57142857 0.42857143]\n",
      " [1.         0.        ]\n",
      " [0.42857143 0.57142857]\n",
      " [0.         1.        ]]\n"
     ]
    }
   ],
   "source": [
    "print(pred_SI_NN)"
   ]
  },
  {
   "cell_type": "code",
   "execution_count": null,
   "metadata": {},
   "outputs": [],
   "source": []
  }
 ],
 "metadata": {
  "kernelspec": {
   "display_name": "Python 3",
   "language": "python",
   "name": "python3"
  },
  "language_info": {
   "codemirror_mode": {
    "name": "ipython",
    "version": 3
   },
   "file_extension": ".py",
   "mimetype": "text/x-python",
   "name": "python",
   "nbconvert_exporter": "python",
   "pygments_lexer": "ipython3",
   "version": "3.6.10"
  }
 },
 "nbformat": 4,
 "nbformat_minor": 4
}
